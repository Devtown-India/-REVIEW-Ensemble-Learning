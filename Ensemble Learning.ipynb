{
 "cells": [
  {
   "cell_type": "markdown",
   "metadata": {},
   "source": [
    "# Ensemble Learning\n",
    "\n",
    "It is one of the most powerful and most used techniques in Machine Learning. The term \"ensemble\" means a group of Musicians but in terms of Machine Learning it means a group of models used together. This technique is so powerful and reliable because instead of relying on only one model we are giving chance to multiple models(it is not necessary that the models will be of same kind).\n",
    "\n",
    "There are multiple techniques in Ensemble methods. The most populer ones are-\n",
    "1. Voting Classifiers\n",
    "2. Bagging\n",
    "3. Boosting\n",
    "4. Stacking"
   ]
  },
  {
   "cell_type": "markdown",
   "metadata": {},
   "source": [
    "# 1. Voting Classifiers\n",
    "\n",
    "It is one the simplest ensemble method used in Machine Learning. In this method we train multiple models with our training data. They may be diverse models like one can be a Support Vector Machine, one may be a Logistic Regression etc. Then, while predicting the result we give each test point to each models and we take the majority vote and for regression problem we take the mean or median of the predictions.\n",
    "\n",
    "Lets suppose we have a binary classification problem and we have the labels 0 and 1. So we train each of the models with our training data and suppose we have trained 5 models. At the time of prediction we gave each model the test data and suppose the predictions are 1, 0, 1, 1, 0 from the model1, model2, model3, model4 and model5 respectively. Now as there are more number of 1 s in the predictions we will take the prediction as 1. Now lets see it in action and it is pretty easy to implement it using sklearn."
   ]
  },
  {
   "cell_type": "code",
   "execution_count": 7,
   "metadata": {},
   "outputs": [],
   "source": [
    "#importing required libraries\n",
    "import numpy as np\n",
    "import pandas as pd\n",
    "from sklearn.model_selection import train_test_split\n",
    "from sklearn.metrics import accuracy_score, precision_score, recall_score, f1_score\n",
    "from sklearn.tree import DecisionTreeClassifier\n",
    "from sklearn.svm import SVC\n",
    "from sklearn.linear_model import LogisticRegression\n",
    "from sklearn.neighbors import KNeighborsClassifier\n",
    "from sklearn.naive_bayes import GaussianNB\n",
    "import warnings\n",
    "warnings.filterwarnings('ignore')"
   ]
  },
  {
   "cell_type": "code",
   "execution_count": 3,
   "metadata": {},
   "outputs": [
    {
     "data": {
      "text/html": [
       "<div>\n",
       "<style scoped>\n",
       "    .dataframe tbody tr th:only-of-type {\n",
       "        vertical-align: middle;\n",
       "    }\n",
       "\n",
       "    .dataframe tbody tr th {\n",
       "        vertical-align: top;\n",
       "    }\n",
       "\n",
       "    .dataframe thead th {\n",
       "        text-align: right;\n",
       "    }\n",
       "</style>\n",
       "<table border=\"1\" class=\"dataframe\">\n",
       "  <thead>\n",
       "    <tr style=\"text-align: right;\">\n",
       "      <th></th>\n",
       "      <th>id</th>\n",
       "      <th>diagnosis</th>\n",
       "      <th>radius_mean</th>\n",
       "      <th>texture_mean</th>\n",
       "      <th>perimeter_mean</th>\n",
       "      <th>area_mean</th>\n",
       "      <th>smoothness_mean</th>\n",
       "      <th>compactness_mean</th>\n",
       "      <th>concavity_mean</th>\n",
       "      <th>concave points_mean</th>\n",
       "      <th>...</th>\n",
       "      <th>texture_worst</th>\n",
       "      <th>perimeter_worst</th>\n",
       "      <th>area_worst</th>\n",
       "      <th>smoothness_worst</th>\n",
       "      <th>compactness_worst</th>\n",
       "      <th>concavity_worst</th>\n",
       "      <th>concave points_worst</th>\n",
       "      <th>symmetry_worst</th>\n",
       "      <th>fractal_dimension_worst</th>\n",
       "      <th>Unnamed: 32</th>\n",
       "    </tr>\n",
       "  </thead>\n",
       "  <tbody>\n",
       "    <tr>\n",
       "      <th>0</th>\n",
       "      <td>842302</td>\n",
       "      <td>M</td>\n",
       "      <td>17.99</td>\n",
       "      <td>10.38</td>\n",
       "      <td>122.80</td>\n",
       "      <td>1001.0</td>\n",
       "      <td>0.11840</td>\n",
       "      <td>0.27760</td>\n",
       "      <td>0.3001</td>\n",
       "      <td>0.14710</td>\n",
       "      <td>...</td>\n",
       "      <td>17.33</td>\n",
       "      <td>184.60</td>\n",
       "      <td>2019.0</td>\n",
       "      <td>0.1622</td>\n",
       "      <td>0.6656</td>\n",
       "      <td>0.7119</td>\n",
       "      <td>0.2654</td>\n",
       "      <td>0.4601</td>\n",
       "      <td>0.11890</td>\n",
       "      <td>NaN</td>\n",
       "    </tr>\n",
       "    <tr>\n",
       "      <th>1</th>\n",
       "      <td>842517</td>\n",
       "      <td>M</td>\n",
       "      <td>20.57</td>\n",
       "      <td>17.77</td>\n",
       "      <td>132.90</td>\n",
       "      <td>1326.0</td>\n",
       "      <td>0.08474</td>\n",
       "      <td>0.07864</td>\n",
       "      <td>0.0869</td>\n",
       "      <td>0.07017</td>\n",
       "      <td>...</td>\n",
       "      <td>23.41</td>\n",
       "      <td>158.80</td>\n",
       "      <td>1956.0</td>\n",
       "      <td>0.1238</td>\n",
       "      <td>0.1866</td>\n",
       "      <td>0.2416</td>\n",
       "      <td>0.1860</td>\n",
       "      <td>0.2750</td>\n",
       "      <td>0.08902</td>\n",
       "      <td>NaN</td>\n",
       "    </tr>\n",
       "    <tr>\n",
       "      <th>2</th>\n",
       "      <td>84300903</td>\n",
       "      <td>M</td>\n",
       "      <td>19.69</td>\n",
       "      <td>21.25</td>\n",
       "      <td>130.00</td>\n",
       "      <td>1203.0</td>\n",
       "      <td>0.10960</td>\n",
       "      <td>0.15990</td>\n",
       "      <td>0.1974</td>\n",
       "      <td>0.12790</td>\n",
       "      <td>...</td>\n",
       "      <td>25.53</td>\n",
       "      <td>152.50</td>\n",
       "      <td>1709.0</td>\n",
       "      <td>0.1444</td>\n",
       "      <td>0.4245</td>\n",
       "      <td>0.4504</td>\n",
       "      <td>0.2430</td>\n",
       "      <td>0.3613</td>\n",
       "      <td>0.08758</td>\n",
       "      <td>NaN</td>\n",
       "    </tr>\n",
       "    <tr>\n",
       "      <th>3</th>\n",
       "      <td>84348301</td>\n",
       "      <td>M</td>\n",
       "      <td>11.42</td>\n",
       "      <td>20.38</td>\n",
       "      <td>77.58</td>\n",
       "      <td>386.1</td>\n",
       "      <td>0.14250</td>\n",
       "      <td>0.28390</td>\n",
       "      <td>0.2414</td>\n",
       "      <td>0.10520</td>\n",
       "      <td>...</td>\n",
       "      <td>26.50</td>\n",
       "      <td>98.87</td>\n",
       "      <td>567.7</td>\n",
       "      <td>0.2098</td>\n",
       "      <td>0.8663</td>\n",
       "      <td>0.6869</td>\n",
       "      <td>0.2575</td>\n",
       "      <td>0.6638</td>\n",
       "      <td>0.17300</td>\n",
       "      <td>NaN</td>\n",
       "    </tr>\n",
       "    <tr>\n",
       "      <th>4</th>\n",
       "      <td>84358402</td>\n",
       "      <td>M</td>\n",
       "      <td>20.29</td>\n",
       "      <td>14.34</td>\n",
       "      <td>135.10</td>\n",
       "      <td>1297.0</td>\n",
       "      <td>0.10030</td>\n",
       "      <td>0.13280</td>\n",
       "      <td>0.1980</td>\n",
       "      <td>0.10430</td>\n",
       "      <td>...</td>\n",
       "      <td>16.67</td>\n",
       "      <td>152.20</td>\n",
       "      <td>1575.0</td>\n",
       "      <td>0.1374</td>\n",
       "      <td>0.2050</td>\n",
       "      <td>0.4000</td>\n",
       "      <td>0.1625</td>\n",
       "      <td>0.2364</td>\n",
       "      <td>0.07678</td>\n",
       "      <td>NaN</td>\n",
       "    </tr>\n",
       "  </tbody>\n",
       "</table>\n",
       "<p>5 rows × 33 columns</p>\n",
       "</div>"
      ],
      "text/plain": [
       "         id diagnosis  radius_mean  texture_mean  perimeter_mean  area_mean  \\\n",
       "0    842302         M        17.99         10.38          122.80     1001.0   \n",
       "1    842517         M        20.57         17.77          132.90     1326.0   \n",
       "2  84300903         M        19.69         21.25          130.00     1203.0   \n",
       "3  84348301         M        11.42         20.38           77.58      386.1   \n",
       "4  84358402         M        20.29         14.34          135.10     1297.0   \n",
       "\n",
       "   smoothness_mean  compactness_mean  concavity_mean  concave points_mean  \\\n",
       "0          0.11840           0.27760          0.3001              0.14710   \n",
       "1          0.08474           0.07864          0.0869              0.07017   \n",
       "2          0.10960           0.15990          0.1974              0.12790   \n",
       "3          0.14250           0.28390          0.2414              0.10520   \n",
       "4          0.10030           0.13280          0.1980              0.10430   \n",
       "\n",
       "   ...  texture_worst  perimeter_worst  area_worst  smoothness_worst  \\\n",
       "0  ...          17.33           184.60      2019.0            0.1622   \n",
       "1  ...          23.41           158.80      1956.0            0.1238   \n",
       "2  ...          25.53           152.50      1709.0            0.1444   \n",
       "3  ...          26.50            98.87       567.7            0.2098   \n",
       "4  ...          16.67           152.20      1575.0            0.1374   \n",
       "\n",
       "   compactness_worst  concavity_worst  concave points_worst  symmetry_worst  \\\n",
       "0             0.6656           0.7119                0.2654          0.4601   \n",
       "1             0.1866           0.2416                0.1860          0.2750   \n",
       "2             0.4245           0.4504                0.2430          0.3613   \n",
       "3             0.8663           0.6869                0.2575          0.6638   \n",
       "4             0.2050           0.4000                0.1625          0.2364   \n",
       "\n",
       "   fractal_dimension_worst  Unnamed: 32  \n",
       "0                  0.11890          NaN  \n",
       "1                  0.08902          NaN  \n",
       "2                  0.08758          NaN  \n",
       "3                  0.17300          NaN  \n",
       "4                  0.07678          NaN  \n",
       "\n",
       "[5 rows x 33 columns]"
      ]
     },
     "execution_count": 3,
     "metadata": {},
     "output_type": "execute_result"
    }
   ],
   "source": [
    "# loading the data\n",
    "data = pd.read_csv('breast_cancer_data.csv')\n",
    "data.head()"
   ]
  },
  {
   "cell_type": "code",
   "execution_count": 4,
   "metadata": {},
   "outputs": [],
   "source": [
    "# dropping the unecessary columns\n",
    "data.drop(['id', 'Unnamed: 32'], axis=1, inplace=True)\n",
    "# diagnosis is the dependent feature so take X as the independent features and Y as the dependent feature\n",
    "X = data.drop(['diagnosis'], axis=1)\n",
    "Y = data['diagnosis']\n",
    "# there are two class labels 'M' for Malignant and 'B' for Benign\n",
    "# Lets assign values -1 to M and 1 to B\n",
    "Y = Y.map({'M':-1, 'B':1})"
   ]
  },
  {
   "cell_type": "code",
   "execution_count": 5,
   "metadata": {},
   "outputs": [],
   "source": [
    "# splitting the data into train and test set, we are using 20% of the data as test data\n",
    "x_train, x_test, y_train, y_test = train_test_split(X.values, Y.values, test_size=0.2, stratify=Y)"
   ]
  },
  {
   "cell_type": "code",
   "execution_count": 13,
   "metadata": {},
   "outputs": [
    {
     "name": "stdout",
     "output_type": "stream",
     "text": [
      "Decision Tree Accuracy: 0.9736842105263158\n",
      "Support Vector Machine Accuracy: 0.9210526315789473\n",
      "Logistic Regression Accuracy: 0.9473684210526315\n",
      "KNN Accuracy: 0.9210526315789473\n",
      "Naive Bayes Accuracy: 0.9736842105263158\n",
      "Voting Classifier Accuracy: 0.9736842105263158\n"
     ]
    }
   ],
   "source": [
    "# we will use VotingClassifier from sklearn.ensemble\n",
    "from sklearn.ensemble import VotingClassifier\n",
    "\n",
    "# create the base mmodels, we will train 5 classifiers(Decision Tree, Support Vector Machine, Logistic regression\n",
    "# K-Nearest Neighbor and Naive Bayes)\n",
    "dt = DecisionTreeClassifier()\n",
    "svc = SVC()\n",
    "lr = LogisticRegression()\n",
    "knn = KNeighborsClassifier()\n",
    "nb = GaussianNB()\n",
    "\n",
    "# fitting the base models on the training data\n",
    "dt.fit(x_train, y_train)\n",
    "svc.fit(x_train, y_train)\n",
    "lr.fit(x_train, y_train)\n",
    "knn.fit(x_train, y_train)\n",
    "nb.fit(x_train, y_train)\n",
    "\n",
    "# testing accuracy of each of the base models\n",
    "print(f'Decision Tree Accuracy: {accuracy_score(y_test, dt.predict(x_test))}')\n",
    "print(f'Support Vector Machine Accuracy: {accuracy_score(y_test, svc.predict(x_test))}')\n",
    "print(f'Logistic Regression Accuracy: {accuracy_score(y_test, lr.predict(x_test))}')\n",
    "print(f'KNN Accuracy: {accuracy_score(y_test, knn.predict(x_test))}')\n",
    "print(f'Naive Bayes Accuracy: {accuracy_score(y_test, nb.predict(x_test))}')\n",
    "\n",
    "# now lets train the voting classifier\n",
    "vc = VotingClassifier(estimators=[('dt', dt), ('svc', svc), ('lr', lr), ('knn', knn), ('nb', nb)])\n",
    "vc.fit(x_train, y_train)\n",
    "print(f'Voting Classifier Accuracy: {accuracy_score(y_test, vc.predict(x_test))}')"
   ]
  },
  {
   "cell_type": "markdown",
   "metadata": {},
   "source": [
    "Here in this case we can see that the accuracy of Decision Tree, Logistic Regression and Naive Bayes is better then the others, so majority votes are mostly taken on their decisions, thats why we can see that the accuracy of Decision Tree, Naive Bayes and the Voting Classifier is exactly the same."
   ]
  },
  {
   "cell_type": "markdown",
   "metadata": {},
   "source": [
    "# 2. Bagging\n",
    "\n",
    "Now as we have seen how voting classifiers work we now have a slight understanding about ensemble methods. The next ensemble method that we will learn is Bagging. It stands for Bootstrap Aggregation. The the 2 main terms, \"Bootstrap\" means splitting the data in certain manner and \"Aggregation\" as aggregating the results of the models(for classification majority vote and for regression mean or median). Bagging is so powerful and the most powerful Bagging technique is Random Forest. We will look into Random Forest but lets understand what is Bagging.\n",
    "\n",
    "In Bagging we need low bias and high variance base models. Now a simple example of such model is a Decision Tree with a reasonable depth, say 30. We know a Decision Tree of such depth will simple overfit the data and thats why we will get low bias high variance model. Now combining these models we will eventually get a model which is low bias and low variance model, what we expect from any model. That is the idea of Bagging. Now lets look as Random Forest.\n",
    "\n",
    "## Random Forest\n",
    "\n",
    "In Random Forest each of the base models are decision trees. The name \"Forest\" is the reason for that. The reason of naming it \"Random\" is because of random sampling of rows and random sampling of columns. We use bagging+column sampling to train each base models with few rows and few columns. Then at the prediction time we use majority vote for classification and mean or median for regression. \n",
    "\n",
    "Now, I will show a code for Random Forest Classifier from scratch using sklearn's DecisionTreeClassifier to show you how easy it is internally."
   ]
  },
  {
   "cell_type": "code",
   "execution_count": 14,
   "metadata": {},
   "outputs": [],
   "source": [
    "class RandomForest:\n",
    "    # intializing the required parameters\n",
    "    # max_depth is default 30 to ensure a low bias, high variance model\n",
    "    # col_sample is 0.5 as default to use only 50% of the columns to train base model\n",
    "    # row_sample is 0.5 as default to use only 50% of rows to train base model\n",
    "    def __init__(self, n_estimators=10, max_depth=30, col_sample=0.5, row_sample=0.5):\n",
    "        self.n_estimators = n_estimators\n",
    "        self.max_depth = max_depth\n",
    "        self.col_sample = col_sample\n",
    "        self.row_sample = row_sample\n",
    "        \n",
    "    def fit(self, X, Y):\n",
    "        # these lists are used to keep track of the base models and their corresponding columns used to train them\n",
    "        self.estimators = []\n",
    "        self.col_samples = []\n",
    "        # threshold row number and column number to be used\n",
    "        row_thresh = int(X.shape[0]*self.row_sample)\n",
    "        col_thresh = int(X.shape[1]*self.col_sample)\n",
    "        \n",
    "        # looping through the no. of estimators to be used\n",
    "        for i in range(self.n_estimators):\n",
    "            # building a base classifier\n",
    "            clf = DecisionTreeClassifier(max_depth=self.max_depth)\n",
    "            \n",
    "            # creating random row samples\n",
    "            row_indices = np.arange(X.shape[0])\n",
    "            np.random.shuffle(row_indices)\n",
    "            row_indices = row_indices[:row_thresh]\n",
    "            \n",
    "            # creating random column samples\n",
    "            col_indices = np.arange(X.shape[1])\n",
    "            np.random.shuffle(col_indices)\n",
    "            col_indices = col_indices[:col_thresh]\n",
    "            \n",
    "            # extracting the random row and column samples\n",
    "            X_sample = X[row_indices]\n",
    "            Y_sample = Y[row_indices]\n",
    "            X_sample = X_sample[:, col_indices]\n",
    "            \n",
    "            # fitting the base model on the radomly sampled data\n",
    "            clf.fit(X_sample, Y_sample)\n",
    "            \n",
    "            # adding the model and corresponding column indices to use them later\n",
    "            self.estimators.append(clf) \n",
    "            self.col_samples.append(col_indices)\n",
    "            \n",
    "    def predict(self, X):\n",
    "        outputs = []\n",
    "        \n",
    "        # looping through the test data\n",
    "        for x in X:\n",
    "            out = []\n",
    "            # using each base model and their corresponding columns to predict the test data\n",
    "            for estimator, col_sample in zip(self.estimators, self.col_samples):\n",
    "                x_sample = x[col_sample]\n",
    "                out.append(estimator.predict([x_sample])[0])\n",
    "            # taking the majority vote and adding it to the output array\n",
    "            outputs.append(max(out, key=out.count))\n",
    "        return np.array(outputs)"
   ]
  },
  {
   "cell_type": "code",
   "execution_count": 15,
   "metadata": {
    "scrolled": true
   },
   "outputs": [
    {
     "name": "stdout",
     "output_type": "stream",
     "text": [
      "Accuracy: 0.9824561403508771\n",
      "precision: 1.0\n",
      "Recall: 0.9722222222222222\n",
      "F1 Score: 0.9859154929577464\n"
     ]
    }
   ],
   "source": [
    "# Now lets see how to simple Random Forest Classifier performs\n",
    "rclf = RandomForest(n_estimators=100)\n",
    "rclf.fit(x_train, y_train)\n",
    "y_pred = rclf.predict(x_test)\n",
    "print(f'Accuracy: {accuracy_score(y_test, y_pred)}')\n",
    "print(f'precision: {precision_score(y_test, y_pred)}')\n",
    "print(f'Recall: {recall_score(y_test, y_pred)}')\n",
    "print(f'F1 Score: {f1_score(y_test, y_pred)}')"
   ]
  },
  {
   "cell_type": "markdown",
   "metadata": {},
   "source": [
    "As we can see our own Random Forest Classifier is doing great, but our implementation is not optimized one. Now lets see how sklearns Random Forest Classifier performs on the same data."
   ]
  },
  {
   "cell_type": "code",
   "execution_count": 19,
   "metadata": {},
   "outputs": [
    {
     "name": "stdout",
     "output_type": "stream",
     "text": [
      "Accuracy: 0.9912280701754386\n",
      "precision: 1.0\n",
      "Recall: 0.9861111111111112\n",
      "F1 Score: 0.993006993006993\n"
     ]
    }
   ],
   "source": [
    "from sklearn.ensemble import RandomForestClassifier\n",
    "# note this oob_score parameter\n",
    "random_clf = RandomForestClassifier(oob_score=True)\n",
    "random_clf.fit(x_train, y_train)\n",
    "y_pred = random_clf.predict(x_test)\n",
    "print(f'Accuracy: {accuracy_score(y_test, y_pred)}')\n",
    "print(f'precision: {precision_score(y_test, y_pred)}')\n",
    "print(f'Recall: {recall_score(y_test, y_pred)}')\n",
    "print(f'F1 Score: {f1_score(y_test, y_pred)}')"
   ]
  },
  {
   "cell_type": "markdown",
   "metadata": {},
   "source": [
    "As we can see we are getting almost similer performance. But there is an important concept called Out of Bag. Now while training our base classifier we are using random row sample of the data, the rest of the rows are called Out of Bag. Now if we can see the result on the Out of Bag then we can estimate the models performance on the test set as both Out of Bag and test set are unseen data  for the model. Out of Bag is also called as oob. The is an attribute \"oob_score\" from which we can know the performance on oob."
   ]
  },
  {
   "cell_type": "code",
   "execution_count": 20,
   "metadata": {},
   "outputs": [
    {
     "name": "stdout",
     "output_type": "stream",
     "text": [
      "Out of Bag score of Random Forest Classifier: 0.9582417582417583\n"
     ]
    }
   ],
   "source": [
    "print(f'Out of Bag score of Random Forest Classifier: {random_clf.oob_score_}')"
   ]
  },
  {
   "cell_type": "markdown",
   "metadata": {},
   "source": [
    "So, we can estimate from the oob_score that we can get an accuracy of 95% on the test set, eventually we are getting a higher accuracy on the test set."
   ]
  },
  {
   "cell_type": "markdown",
   "metadata": {},
   "source": [
    "There is another property of Bagging techniques which is Feature Importance. While building each Decision Tree they keep note that which feature is more important. So we can get feature importance of each feature and we will know which feature is needed more for our problem."
   ]
  },
  {
   "cell_type": "code",
   "execution_count": 24,
   "metadata": {
    "scrolled": true
   },
   "outputs": [
    {
     "name": "stdout",
     "output_type": "stream",
     "text": [
      "diagnosis: 0.016384726682740648\n",
      "radius_mean: 0.013808777933292379\n",
      "texture_mean: 0.027085798933599574\n",
      "perimeter_mean: 0.05284352616641131\n",
      "area_mean: 0.005823971611588287\n",
      "smoothness_mean: 0.014189227052116416\n",
      "compactness_mean: 0.05332910040998698\n",
      "concavity_mean: 0.12222955399469113\n",
      "concave points_mean: 0.006338531044544683\n",
      "symmetry_mean: 0.0052525494239652765\n",
      "fractal_dimension_mean: 0.022995141369762318\n",
      "radius_se: 0.004577601983663595\n",
      "texture_se: 0.010254202897495318\n",
      "perimeter_se: 0.018758727594880443\n",
      "area_se: 0.003235897275522856\n",
      "smoothness_se: 0.006454596380596502\n",
      "compactness_se: 0.005397855005372135\n",
      "concavity_se: 0.00799779760907504\n",
      "concave points_se: 0.005134807897842808\n",
      "symmetry_se: 0.0045165661650876515\n",
      "fractal_dimension_se: 0.14954535570785424\n",
      "radius_worst: 0.020551411911101884\n",
      "texture_worst: 0.1325603740819509\n",
      "perimeter_worst: 0.10775480063521904\n",
      "area_worst: 0.01362444182985713\n",
      "smoothness_worst: 0.023065164337619612\n",
      "compactness_worst: 0.02378657805319064\n",
      "concavity_worst: 0.10578451632284414\n",
      "concave points_worst: 0.010448338863670083\n",
      "symmetry_worst: 0.006270060824457148\n"
     ]
    }
   ],
   "source": [
    "for name, importance in zip(data.columns, random_clf.feature_importances_):\n",
    "    print(f'{name}: {importance}')"
   ]
  },
  {
   "cell_type": "markdown",
   "metadata": {},
   "source": [
    "## Extemely Randomized Trees\n",
    "\n",
    "There is another variation of Random Forests called Extremely Randomized Tress. In this method all the properties are same as Random Forests but there is another kind of randomization. While dealing with numerical features Decision Trees sort them in ascending order and take each of them to calculate the threshold value, but in case of Extremely Radomized Trees they take a random sample of these numerical featues to calculate the threshold value. Lets take a look at this in coding."
   ]
  },
  {
   "cell_type": "code",
   "execution_count": 21,
   "metadata": {
    "scrolled": false
   },
   "outputs": [
    {
     "name": "stdout",
     "output_type": "stream",
     "text": [
      "Accuracy: 0.9824561403508771\n",
      "precision: 1.0\n",
      "Recall: 0.9722222222222222\n",
      "F1 Score: 0.9859154929577464\n"
     ]
    }
   ],
   "source": [
    "from sklearn.ensemble import ExtraTreesClassifier\n",
    "extra_random_clf = ExtraTreesClassifier()\n",
    "extra_random_clf.fit(x_train, y_train)\n",
    "y_pred = extra_random_clf.predict(x_test)\n",
    "print(f'Accuracy: {accuracy_score(y_test, y_pred)}')\n",
    "print(f'precision: {precision_score(y_test, y_pred)}')\n",
    "print(f'Recall: {recall_score(y_test, y_pred)}')\n",
    "print(f'F1 Score: {f1_score(y_test, y_pred)}')"
   ]
  },
  {
   "cell_type": "markdown",
   "metadata": {},
   "source": [
    "# 3. Boosting\n",
    "\n",
    "It is the most powerful ensemble technique. In Boosting we take multiple weak learners and combine them to get a strong learner. In boosting the models we take are high bias and low variance models and combine them to get a low bias, low variance model. A simple example of such model is Decision Tree with which is shallow means the depth is low. Generally we take Decision Tree of depth 1(Decision Stump). There are various methods in boosting. The most popular are AdaBoost and Gradient Boosting."
   ]
  },
  {
   "cell_type": "markdown",
   "metadata": {},
   "source": [
    "## AdaBoost\n",
    "\n",
    "It is one of the most popular Boosting technique. In this technique we take a base learner at first, we assign a weight to all the samples, then we train it on the training data. Then we see how the performance of the model on the train data and the samples which are incorrectly classified we increase their the weights exponentially. Now with this train data and with these sample weights we train the next base learner and so on.\n"
   ]
  },
  {
   "cell_type": "markdown",
   "metadata": {},
   "source": [
    "### The AdaBoost Algorithm\n",
    "\n",
    "i) Initialize all weights to $w=\\frac{1}{n}$ where n is the number of instances in the dataset\n",
    "\n",
    "ii) While i < T (T=number of models to be grown) do:\n",
    "\n",
    "iii) Create a model and get the hypothesis $h_i(x_n)$ for all datapoints $x_n$ in the dataset\n",
    "\n",
    "iv) Calculate the error $\\epsilon$ of the training set summing over all datapoints $x_n$ in the training set with:\n",
    "\n",
    "$$\\epsilon_i=\\frac{\\sum_{n=1}^{N}w_n^i*I(y_n!=h_i(x_n))}{\\sum_{n=1}^{N}w_n^i}$$\n",
    "where I(condition) returns 1 if it is True else returns 0\n",
    "\n",
    "v) Compute $\\alpha$ with:\n",
    "$$\\alpha_i=\\nu*log(\\frac{1-\\epsilon_t}{\\epsilon_t})$$\n",
    "where $\\nu$ is called the learning rate\n",
    "\n",
    "vi) Update the weights for the N training instances in the next (i+1) model with:\n",
    "$$w_n^i+1=w_n^i*exp(\\alpha_i*I(y_n!=h_i(x_n))$$\n",
    "\n",
    "vii) After all the iterations, calculate the final output with:\n",
    "$$f(x)=sign(\\sum_{i=1}^{T}\\alpha_i*h_i(x)$$"
   ]
  },
  {
   "cell_type": "markdown",
   "metadata": {},
   "source": [
    "Now we will code an Adaboost Classifier from scratch to see how it performs."
   ]
  },
  {
   "cell_type": "code",
   "execution_count": 29,
   "metadata": {},
   "outputs": [],
   "source": [
    "class BoostingClassifier:\n",
    "    # initializing the required parameters\n",
    "    # n_estimators - default is 50, it is the number of base learners\n",
    "    # max_depth - default is 1, it is the maximum depth of base learners\n",
    "    # learning_rate - default is 0.5, it is used to limit the changes to the weights \n",
    "    # and to limit the value of alpha\n",
    "    def __init__(self, n_estimators=50, max_depth=1, learning_rate=0.5):\n",
    "        self.n_estimators = n_estimators\n",
    "        self.max_depth = max_depth\n",
    "        self.learning_rate = learning_rate\n",
    "        self.trees = []\n",
    "        self.alphas = []\n",
    "        \n",
    "    def fit(self, X, Y):\n",
    "        # initializing the weights by 1/n\n",
    "        weights = np.array([1/len(Y)]*len(Y))\n",
    "        \n",
    "        # looping through the no. of estimators\n",
    "        for i in range(self.n_estimators):\n",
    "            # building a base learner\n",
    "            tree = DecisionTreeClassifier(max_depth=self.max_depth)\n",
    "            \n",
    "            # fitting the base learner with corresponding sample weights\n",
    "            tree.fit(X, Y, sample_weight=weights)\n",
    "            \n",
    "            # adding the base learner to the list of base learners\n",
    "            self.trees.append(tree)\n",
    "            \n",
    "            # predicting the class labels with this weak base learner\n",
    "            y_pred = tree.predict(X)\n",
    "            \n",
    "            # calculating error\n",
    "            error = np.sum(weights * (y_pred!=Y).astype(np.int))/np.sum(weights)\n",
    "            \n",
    "            # calculating alpha by multiplying with the learning rate\n",
    "            alpha = self.learning_rate*np.log((1-error)/error)\n",
    "            \n",
    "            # adding this alpha to the list of alphas\n",
    "            self.alphas.append(alpha)\n",
    "            \n",
    "            # updating the weights exponentially for the misclassified samples\n",
    "            weights = weights * np.exp(alpha * (y_pred!=Y).astype(np.int))\n",
    "    \n",
    "    def predict(self, X):\n",
    "        predictions = []\n",
    "        \n",
    "        # looping through all the alphas and the base models\n",
    "        for alpha, tree in zip(self.alphas, self.trees):\n",
    "            # multiplying alpha with the predictions of a base model\n",
    "            y_pred = alpha * tree.predict(X)\n",
    "            \n",
    "            # adding this prediction to the list of predictions\n",
    "            predictions.append(y_pred)\n",
    "            \n",
    "        # only the sign of the predictions will be required\n",
    "        return  np.sign(np.sum(predictions, axis=0))"
   ]
  },
  {
   "cell_type": "code",
   "execution_count": 30,
   "metadata": {},
   "outputs": [
    {
     "name": "stdout",
     "output_type": "stream",
     "text": [
      "Accuracy: 0.9912280701754386\n",
      "precision: 1.0\n",
      "Recall: 0.9861111111111112\n",
      "F1 Score: 0.993006993006993\n"
     ]
    }
   ],
   "source": [
    "gclf = BoostingClassifier()\n",
    "gclf.fit(x_train, y_train)\n",
    "y_pred = gclf.predict(x_test)\n",
    "print(f'Accuracy: {accuracy_score(y_test, y_pred)}')\n",
    "print(f'precision: {precision_score(y_test, y_pred)}')\n",
    "print(f'Recall: {recall_score(y_test, y_pred)}')\n",
    "print(f'F1 Score: {f1_score(y_test, y_pred)}')"
   ]
  },
  {
   "cell_type": "markdown",
   "metadata": {},
   "source": [
    "As we can see our own AdaBoost Classifier is doing great. It is also outperforming the sklearn's RandomForestClassifier. So we can understand how powerful is Boosting techniques. Now we will take a look at sklearn's implementation of AdaBoost."
   ]
  },
  {
   "cell_type": "code",
   "execution_count": 31,
   "metadata": {},
   "outputs": [
    {
     "name": "stdout",
     "output_type": "stream",
     "text": [
      "Accuracy: 1.0\n",
      "precision: 1.0\n",
      "Recall: 1.0\n",
      "F1 Score: 1.0\n"
     ]
    }
   ],
   "source": [
    "from sklearn.ensemble import AdaBoostClassifier\n",
    "adaboost_clf = AdaBoostClassifier()\n",
    "adaboost_clf.fit(x_train, y_train)\n",
    "y_pred = adaboost_clf.predict(x_test)\n",
    "print(f'Accuracy: {accuracy_score(y_test, y_pred)}')\n",
    "print(f'precision: {precision_score(y_test, y_pred)}')\n",
    "print(f'Recall: {recall_score(y_test, y_pred)}')\n",
    "print(f'F1 Score: {f1_score(y_test, y_pred)}')"
   ]
  },
  {
   "cell_type": "markdown",
   "metadata": {},
   "source": [
    "As we can see sklearn's AdaBoostClassifier is so powerful. It is giving 100% score to all the metrics."
   ]
  },
  {
   "cell_type": "markdown",
   "metadata": {},
   "source": [
    "# Gradient Boosting\n",
    "\n",
    "Another very popular Boosting algorithm is Gradient Boosting. Just like AdaBoost, Gradient Boosting works by sequentially adding predictors to an ensemble, each one correcting its predecessor. However, instead of tweaking the instance weights at every iteration like AdaBoost does, this method tries to fit the new predictor to the residual\n",
    "errors made by the previous predictor."
   ]
  },
  {
   "cell_type": "markdown",
   "metadata": {},
   "source": [
    "Now we will look into the implementation of Gradient Boosting in sklearn."
   ]
  },
  {
   "cell_type": "code",
   "execution_count": 32,
   "metadata": {},
   "outputs": [
    {
     "name": "stdout",
     "output_type": "stream",
     "text": [
      "Accuracy: 0.9736842105263158\n",
      "precision: 0.9859154929577465\n",
      "Recall: 0.9722222222222222\n",
      "F1 Score: 0.979020979020979\n"
     ]
    }
   ],
   "source": [
    "from sklearn.ensemble import GradientBoostingClassifier\n",
    "gradboost_clf = GradientBoostingClassifier()\n",
    "gradboost_clf.fit(x_train, y_train)\n",
    "y_pred = gradboost_clf.predict(x_test)\n",
    "print(f'Accuracy: {accuracy_score(y_test, y_pred)}')\n",
    "print(f'precision: {precision_score(y_test, y_pred)}')\n",
    "print(f'Recall: {recall_score(y_test, y_pred)}')\n",
    "print(f'F1 Score: {f1_score(y_test, y_pred)}')"
   ]
  },
  {
   "cell_type": "markdown",
   "metadata": {},
   "source": [
    "As we can see the performance is again great but the implementation of Gradient Boosting in sklearn is not well optimized.\n",
    "The implementation is based on the idea of Residuals + Row Sampling\n",
    "Their is another package in python called \"xgboost\". There the implementation of Gradient Boosting is well optimized and it performs great.\n",
    "This implementation is based on the idea of Residuals + Row Sampling + Column Sampling\n",
    "Just use \"pip install xgboost\" to install the package.\n",
    "Now we will take a look into the implementation of Gradient Boosting in xgboost."
   ]
  },
  {
   "cell_type": "code",
   "execution_count": 33,
   "metadata": {},
   "outputs": [
    {
     "name": "stdout",
     "output_type": "stream",
     "text": [
      "Accuracy: 0.9912280701754386\n",
      "precision: 0.9863013698630136\n",
      "Recall: 1.0\n",
      "F1 Score: 0.993103448275862\n"
     ]
    }
   ],
   "source": [
    "from xgboost import XGBClassifier\n",
    "xgb_clf = XGBClassifier()\n",
    "xgb_clf.fit(x_train, y_train)\n",
    "y_pred = xgb_clf.predict(x_test)\n",
    "print(f'Accuracy: {accuracy_score(y_test, y_pred)}')\n",
    "print(f'precision: {precision_score(y_test, y_pred)}')\n",
    "print(f'Recall: {recall_score(y_test, y_pred)}')\n",
    "print(f'F1 Score: {f1_score(y_test, y_pred)}')"
   ]
  },
  {
   "attachments": {
    "stackingclassifier.png": {
     "image/png": "[encoded data removed]"
    }
   },
   "cell_type": "markdown",
   "metadata": {},
   "source": [
    "# 4. Stacking Classifier\n",
    "\n",
    "It is one of the most powerful ensemble methods. In this method we take models which are well trained and have a good bias-variance trade-off.\n",
    "Here using the predictions of the base models, a new dataset is formed and from that we try to create a meta classifier which predicts the actual class labels.\n",
    "The picture below describes how a stacking classifier is formed.\n",
    "![stackingclassifier.png](attachment:stackingclassifier.png)"
   ]
  },
  {
   "cell_type": "markdown",
   "metadata": {},
   "source": [
    "In sklearn there is no direct implementation of Stacking Classifier but we can make it by our own. There is another package called \"mlxtend\" and there is an implementation of Stacking Classifier.\n",
    "We will use mlxtend to see how a stacking classifier is performing.\n",
    "Just use \"pip install mlxtend\" to install the package."
   ]
  },
  {
   "cell_type": "code",
   "execution_count": 42,
   "metadata": {},
   "outputs": [
    {
     "name": "stdout",
     "output_type": "stream",
     "text": [
      "Accuracy of KNN: 0.9210526315789473\n",
      "Accuracy of Random Forest: 0.9824561403508771\n",
      "Accuracy of Naive Bayes: 0.9736842105263158\n",
      "Accuracy of Stacking Classifier: 0.9912280701754386\n"
     ]
    }
   ],
   "source": [
    "from mlxtend.classifier import StackingClassifier\n",
    "# building the base models\n",
    "knn = KNeighborsClassifier()\n",
    "rf = RandomForestClassifier()\n",
    "nb = GaussianNB()\n",
    "# Logistic Regression model will be used as the Meta Classifier\n",
    "lr = LogisticRegression()\n",
    "stacking_clf = StackingClassifier(classifiers=[knn, rf, nb], meta_classifier=lr)\n",
    "# looping through the  classifiers and taking a look at how they are performing\n",
    "for name, clf in zip(['KNN', 'Random Forest', 'Naive Bayes', 'Stacking Classifier'], [knn, rf, nb, stacking_clf]):\n",
    "    clf.fit(x_train, y_train)\n",
    "    y_pred = clf.predict(x_test)\n",
    "    print(f'Accuracy of {name}: {accuracy_score(y_test, y_pred)}')"
   ]
  },
  {
   "cell_type": "markdown",
   "metadata": {},
   "source": [
    "So,  we can see the Stacking Classifier is performing great.\n",
    "Generally Stacking Classifiers are great as generally they give better accuracy than Bagging and Boosting classifiers, but we can see the training time and evaluation time for Stacking Classifier is pretty high. Thats why they are typically not used in real time applications, but they are really great for competitions like Kaggle. "
   ]
  },
  {
   "cell_type": "markdown",
   "metadata": {},
   "source": [
    "# References\n",
    "1. https://www.python-course.eu/Boosting.php\n",
    "2. Hands on Machine-Learning with Scikit-Learn, Tensorflow and Keras by O'Reilly 2nd Edition"
   ]
  }
 ],
 "metadata": {
  "kernelspec": {
   "display_name": "Python 3",
   "language": "python",
   "name": "python3"
  },
  "language_info": {
   "codemirror_mode": {
    "name": "ipython",
    "version": 3
   },
   "file_extension": ".py",
   "mimetype": "text/x-python",
   "name": "python",
   "nbconvert_exporter": "python",
   "pygments_lexer": "ipython3",
   "version": "3.7.6"
  }
 },
 "nbformat": 4,
 "nbformat_minor": 4
}
